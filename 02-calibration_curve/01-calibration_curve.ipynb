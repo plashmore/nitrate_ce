{
 "cells": [
  {
   "cell_type": "markdown",
   "id": "4aad4c68-dbfb-4664-b7cc-8d9030026cd4",
   "metadata": {},
   "source": [
    "# Notebook for building and analyzing calibration curve data for nitrate by CE-UV/vis\n",
    "- Uses raw data from `01-input_data` directory (`cal_curve.csv`, `lfb_data.csv`, `lod_data.csv`)\n",
    "- Calculates calibration curve with and without ISTD correction for comparison\n",
    "- Calculates error, LOD, LOQ, %recovery of blanks\n",
    "- Plots calibration curve with error bars"
   ]
  },
  {
   "cell_type": "markdown",
   "id": "5113bac6-17cf-4a48-91e2-90c4f63aa156",
   "metadata": {},
   "source": [
    "## Calculating calibration curve from CE calibration data\n",
    "- Uses peak areas from MassHunter output\n",
    "- Converts our original ppm concentrations to mM for ease of reporting later on\n",
    "- Determines LOD, LOQ, %Recovery of LFBs"
   ]
  },
  {
   "cell_type": "code",
   "execution_count": 1,
   "id": "a2beb010-56e9-417a-bd85-c5208a10c67b",
   "metadata": {},
   "outputs": [],
   "source": [
    "import pandas as pd #For dataframes\n",
    "import matplotlib.pyplot as plt #For pretty plots\n",
    "import numpy as np #For extra math stuff\n",
    "from scipy.stats import linregress, t #For linear regression for our cal curves and t-test for confidence intervals\n",
    "from scipy.stats import levene #Levene test for heteroscedasticity\n",
    "import statsmodels.api as sm #For OLS and WLS modeling in case of heteroscedasticity\n",
    "import pickle #For pickling things to save for later"
   ]
  },
  {
   "cell_type": "code",
   "execution_count": 2,
   "id": "6c2ec7ea-b031-4d59-a75d-d4c2f7e2dfe5",
   "metadata": {},
   "outputs": [],
   "source": [
    "#Read our calibration curve data, LFB, and LOD data\n",
    "cal_data=pd.read_csv(\"../01-input_data/cal_curve.csv\")\n",
    "lfb_data=pd.read_csv(\"../01-input_data/lfb_data.csv\")\n",
    "lod_data=pd.read_csv(\"../01-input_data/lod_data.csv\")"
   ]
  },
  {
   "cell_type": "code",
   "execution_count": 3,
   "id": "6b920a69-bb4d-47ac-a6c4-11fffc0428b1",
   "metadata": {},
   "outputs": [
    {
     "data": {
      "text/html": [
       "<div>\n",
       "<style scoped>\n",
       "    .dataframe tbody tr th:only-of-type {\n",
       "        vertical-align: middle;\n",
       "    }\n",
       "\n",
       "    .dataframe tbody tr th {\n",
       "        vertical-align: top;\n",
       "    }\n",
       "\n",
       "    .dataframe thead th {\n",
       "        text-align: right;\n",
       "    }\n",
       "</style>\n",
       "<table border=\"1\" class=\"dataframe\">\n",
       "  <thead>\n",
       "    <tr style=\"text-align: right;\">\n",
       "      <th></th>\n",
       "      <th>concentration</th>\n",
       "      <th>istd_area</th>\n",
       "      <th>no3_area</th>\n",
       "    </tr>\n",
       "  </thead>\n",
       "  <tbody>\n",
       "    <tr>\n",
       "      <th>0</th>\n",
       "      <td>0.50</td>\n",
       "      <td>12.35</td>\n",
       "      <td>0.46</td>\n",
       "    </tr>\n",
       "    <tr>\n",
       "      <th>1</th>\n",
       "      <td>0.50</td>\n",
       "      <td>12.16</td>\n",
       "      <td>0.49</td>\n",
       "    </tr>\n",
       "    <tr>\n",
       "      <th>2</th>\n",
       "      <td>0.50</td>\n",
       "      <td>11.92</td>\n",
       "      <td>0.41</td>\n",
       "    </tr>\n",
       "    <tr>\n",
       "      <th>3</th>\n",
       "      <td>1.25</td>\n",
       "      <td>14.73</td>\n",
       "      <td>1.07</td>\n",
       "    </tr>\n",
       "    <tr>\n",
       "      <th>4</th>\n",
       "      <td>1.25</td>\n",
       "      <td>14.51</td>\n",
       "      <td>1.22</td>\n",
       "    </tr>\n",
       "  </tbody>\n",
       "</table>\n",
       "</div>"
      ],
      "text/plain": [
       "   concentration  istd_area  no3_area\n",
       "0           0.50      12.35      0.46\n",
       "1           0.50      12.16      0.49\n",
       "2           0.50      11.92      0.41\n",
       "3           1.25      14.73      1.07\n",
       "4           1.25      14.51      1.22"
      ]
     },
     "execution_count": 3,
     "metadata": {},
     "output_type": "execute_result"
    }
   ],
   "source": [
    "cal_data.head(5)"
   ]
  },
  {
   "cell_type": "code",
   "execution_count": 4,
   "id": "aa76eade-0ca7-4599-bfb3-b9c027c69d6b",
   "metadata": {},
   "outputs": [],
   "source": [
    "#Let's convert everything from ppm to mM of NO3-\n",
    "mw_no3=62.004 #molecular weight of NO3- = 62.004g/mol, mM = ppm/MW\n",
    "cal_data['mM']=cal_data['concentration']/mw_no3\n",
    "lfb_data['mM']=lfb_data['concentration']/mw_no3\n",
    "lod_data['mM']=lod_data['concentration']/mw_no3"
   ]
  },
  {
   "cell_type": "code",
   "execution_count": 5,
   "id": "4bbb0274-5016-49aa-9fc7-a3b26e81c851",
   "metadata": {},
   "outputs": [],
   "source": [
    "#Calculate our response factors from NO3 and ISTD peak areas for all three datasets\n",
    "cal_data['rf'] = cal_data['no3_area']/cal_data['istd_area']\n",
    "lod_data['rf'] = lod_data['no3_area']/lod_data['istd_area']\n",
    "lfb_data['rf'] = lfb_data['no3_area']/lfb_data['istd_area']"
   ]
  },
  {
   "cell_type": "code",
   "execution_count": 6,
   "id": "80eea3cd-c85f-4a9c-8f19-a188662686bd",
   "metadata": {},
   "outputs": [
    {
     "data": {
      "text/html": [
       "<div>\n",
       "<style scoped>\n",
       "    .dataframe tbody tr th:only-of-type {\n",
       "        vertical-align: middle;\n",
       "    }\n",
       "\n",
       "    .dataframe tbody tr th {\n",
       "        vertical-align: top;\n",
       "    }\n",
       "\n",
       "    .dataframe thead th {\n",
       "        text-align: right;\n",
       "    }\n",
       "</style>\n",
       "<table border=\"1\" class=\"dataframe\">\n",
       "  <thead>\n",
       "    <tr style=\"text-align: right;\">\n",
       "      <th></th>\n",
       "      <th>concentration</th>\n",
       "      <th>istd_area</th>\n",
       "      <th>no3_area</th>\n",
       "      <th>mM</th>\n",
       "      <th>rf</th>\n",
       "    </tr>\n",
       "  </thead>\n",
       "  <tbody>\n",
       "    <tr>\n",
       "      <th>0</th>\n",
       "      <td>0.50</td>\n",
       "      <td>12.35</td>\n",
       "      <td>0.46</td>\n",
       "      <td>0.008064</td>\n",
       "      <td>0.037247</td>\n",
       "    </tr>\n",
       "    <tr>\n",
       "      <th>1</th>\n",
       "      <td>0.50</td>\n",
       "      <td>12.16</td>\n",
       "      <td>0.49</td>\n",
       "      <td>0.008064</td>\n",
       "      <td>0.040296</td>\n",
       "    </tr>\n",
       "    <tr>\n",
       "      <th>2</th>\n",
       "      <td>0.50</td>\n",
       "      <td>11.92</td>\n",
       "      <td>0.41</td>\n",
       "      <td>0.008064</td>\n",
       "      <td>0.034396</td>\n",
       "    </tr>\n",
       "    <tr>\n",
       "      <th>3</th>\n",
       "      <td>1.25</td>\n",
       "      <td>14.73</td>\n",
       "      <td>1.07</td>\n",
       "      <td>0.020160</td>\n",
       "      <td>0.072641</td>\n",
       "    </tr>\n",
       "    <tr>\n",
       "      <th>4</th>\n",
       "      <td>1.25</td>\n",
       "      <td>14.51</td>\n",
       "      <td>1.22</td>\n",
       "      <td>0.020160</td>\n",
       "      <td>0.084080</td>\n",
       "    </tr>\n",
       "  </tbody>\n",
       "</table>\n",
       "</div>"
      ],
      "text/plain": [
       "   concentration  istd_area  no3_area        mM        rf\n",
       "0           0.50      12.35      0.46  0.008064  0.037247\n",
       "1           0.50      12.16      0.49  0.008064  0.040296\n",
       "2           0.50      11.92      0.41  0.008064  0.034396\n",
       "3           1.25      14.73      1.07  0.020160  0.072641\n",
       "4           1.25      14.51      1.22  0.020160  0.084080"
      ]
     },
     "execution_count": 6,
     "metadata": {},
     "output_type": "execute_result"
    }
   ],
   "source": [
    "cal_data.head(5)"
   ]
  },
  {
   "cell_type": "code",
   "execution_count": 7,
   "id": "036ed2a5-1d9b-4fd7-93ae-0333e989ce4f",
   "metadata": {},
   "outputs": [
    {
     "data": {
      "text/html": [
       "<div>\n",
       "<style scoped>\n",
       "    .dataframe tbody tr th:only-of-type {\n",
       "        vertical-align: middle;\n",
       "    }\n",
       "\n",
       "    .dataframe tbody tr th {\n",
       "        vertical-align: top;\n",
       "    }\n",
       "\n",
       "    .dataframe thead th {\n",
       "        text-align: right;\n",
       "    }\n",
       "</style>\n",
       "<table border=\"1\" class=\"dataframe\">\n",
       "  <thead>\n",
       "    <tr style=\"text-align: right;\">\n",
       "      <th></th>\n",
       "      <th>concentration</th>\n",
       "      <th>istd_area</th>\n",
       "      <th>no3_area</th>\n",
       "      <th>mM</th>\n",
       "      <th>rf</th>\n",
       "    </tr>\n",
       "  </thead>\n",
       "  <tbody>\n",
       "    <tr>\n",
       "      <th>0</th>\n",
       "      <td>0.5</td>\n",
       "      <td>12.16</td>\n",
       "      <td>0.49</td>\n",
       "      <td>0.008064</td>\n",
       "      <td>0.040296</td>\n",
       "    </tr>\n",
       "    <tr>\n",
       "      <th>1</th>\n",
       "      <td>0.5</td>\n",
       "      <td>11.92</td>\n",
       "      <td>0.41</td>\n",
       "      <td>0.008064</td>\n",
       "      <td>0.034396</td>\n",
       "    </tr>\n",
       "    <tr>\n",
       "      <th>2</th>\n",
       "      <td>0.5</td>\n",
       "      <td>13.31</td>\n",
       "      <td>0.67</td>\n",
       "      <td>0.008064</td>\n",
       "      <td>0.050338</td>\n",
       "    </tr>\n",
       "    <tr>\n",
       "      <th>3</th>\n",
       "      <td>0.5</td>\n",
       "      <td>12.35</td>\n",
       "      <td>0.46</td>\n",
       "      <td>0.008064</td>\n",
       "      <td>0.037247</td>\n",
       "    </tr>\n",
       "    <tr>\n",
       "      <th>4</th>\n",
       "      <td>0.5</td>\n",
       "      <td>11.33</td>\n",
       "      <td>0.37</td>\n",
       "      <td>0.008064</td>\n",
       "      <td>0.032657</td>\n",
       "    </tr>\n",
       "  </tbody>\n",
       "</table>\n",
       "</div>"
      ],
      "text/plain": [
       "   concentration  istd_area  no3_area        mM        rf\n",
       "0            0.5      12.16      0.49  0.008064  0.040296\n",
       "1            0.5      11.92      0.41  0.008064  0.034396\n",
       "2            0.5      13.31      0.67  0.008064  0.050338\n",
       "3            0.5      12.35      0.46  0.008064  0.037247\n",
       "4            0.5      11.33      0.37  0.008064  0.032657"
      ]
     },
     "execution_count": 7,
     "metadata": {},
     "output_type": "execute_result"
    }
   ],
   "source": [
    "lod_data.head(5)"
   ]
  },
  {
   "cell_type": "code",
   "execution_count": 8,
   "id": "5c7da1cd-3c4b-4092-aef6-5cc15f23e4a5",
   "metadata": {},
   "outputs": [
    {
     "data": {
      "text/html": [
       "<div>\n",
       "<style scoped>\n",
       "    .dataframe tbody tr th:only-of-type {\n",
       "        vertical-align: middle;\n",
       "    }\n",
       "\n",
       "    .dataframe tbody tr th {\n",
       "        vertical-align: top;\n",
       "    }\n",
       "\n",
       "    .dataframe thead th {\n",
       "        text-align: right;\n",
       "    }\n",
       "</style>\n",
       "<table border=\"1\" class=\"dataframe\">\n",
       "  <thead>\n",
       "    <tr style=\"text-align: right;\">\n",
       "      <th></th>\n",
       "      <th>concentration</th>\n",
       "      <th>istd_area</th>\n",
       "      <th>no3_area</th>\n",
       "      <th>mM</th>\n",
       "      <th>rf</th>\n",
       "    </tr>\n",
       "  </thead>\n",
       "  <tbody>\n",
       "    <tr>\n",
       "      <th>0</th>\n",
       "      <td>80</td>\n",
       "      <td>11.31</td>\n",
       "      <td>69.58</td>\n",
       "      <td>1.290239</td>\n",
       "      <td>6.152078</td>\n",
       "    </tr>\n",
       "    <tr>\n",
       "      <th>1</th>\n",
       "      <td>80</td>\n",
       "      <td>10.81</td>\n",
       "      <td>66.89</td>\n",
       "      <td>1.290239</td>\n",
       "      <td>6.187789</td>\n",
       "    </tr>\n",
       "    <tr>\n",
       "      <th>2</th>\n",
       "      <td>80</td>\n",
       "      <td>10.18</td>\n",
       "      <td>68.96</td>\n",
       "      <td>1.290239</td>\n",
       "      <td>6.774067</td>\n",
       "    </tr>\n",
       "    <tr>\n",
       "      <th>3</th>\n",
       "      <td>7</td>\n",
       "      <td>12.71</td>\n",
       "      <td>7.64</td>\n",
       "      <td>0.112896</td>\n",
       "      <td>0.601101</td>\n",
       "    </tr>\n",
       "    <tr>\n",
       "      <th>4</th>\n",
       "      <td>7</td>\n",
       "      <td>11.43</td>\n",
       "      <td>6.32</td>\n",
       "      <td>0.112896</td>\n",
       "      <td>0.552931</td>\n",
       "    </tr>\n",
       "  </tbody>\n",
       "</table>\n",
       "</div>"
      ],
      "text/plain": [
       "   concentration  istd_area  no3_area        mM        rf\n",
       "0             80      11.31     69.58  1.290239  6.152078\n",
       "1             80      10.81     66.89  1.290239  6.187789\n",
       "2             80      10.18     68.96  1.290239  6.774067\n",
       "3              7      12.71      7.64  0.112896  0.601101\n",
       "4              7      11.43      6.32  0.112896  0.552931"
      ]
     },
     "execution_count": 8,
     "metadata": {},
     "output_type": "execute_result"
    }
   ],
   "source": [
    "lfb_data.head(5)"
   ]
  },
  {
   "cell_type": "code",
   "execution_count": 9,
   "id": "c21c4677-b356-47e8-bb70-5c4b2d3e3c88",
   "metadata": {},
   "outputs": [
    {
     "name": "stdout",
     "output_type": "stream",
     "text": [
      "Slope: 55.322598762232175\n",
      "Intercept: 0.3570474987097043\n",
      "R^2: 0.9673681161305245\n",
      "Standard error of slope: 2.032159337979013\n",
      "Standard error of y-intercept: 2.5212126435078264\n"
     ]
    }
   ],
   "source": [
    "#Calculate our cal curve without ISTD correction first, using NO3- peak area\n",
    "x=cal_data['mM']\n",
    "y=cal_data['no3_area']\n",
    "slope, intercept, r_value, p_value, std_err = linregress(x,y)\n",
    "\n",
    "#Also need standard error of y-intercept, linregress does not calculate this for us so have to do it manually\n",
    "y_pred=intercept+slope*x\n",
    "residuals=y-y_pred\n",
    "n=len(x)\n",
    "s_y=np.sqrt(np.sum(residuals**2)/(n-2))\n",
    "x_mean=np.mean(x)\n",
    "Sxx=np.sum((x-x_mean)**2)\n",
    "se_intercept=s_y*np.sqrt(1/n + x_mean**2/Sxx)\n",
    "\n",
    "print(f\"Slope: {slope}\")\n",
    "print(f\"Intercept: {intercept}\")\n",
    "print(f\"R^2: {r_value**2}\")\n",
    "print(f\"Standard error of slope: {std_err}\")\n",
    "print(f\"Standard error of y-intercept: {se_intercept}\")"
   ]
  },
  {
   "cell_type": "code",
   "execution_count": 10,
   "id": "92e554fa-536e-44ca-b2f3-4274e6dd1a50",
   "metadata": {},
   "outputs": [
    {
     "name": "stdout",
     "output_type": "stream",
     "text": [
      "Slope: 4.35083324189003\n",
      "Intercept: 0.021153689353422767\n",
      "R^2: 0.997811010140888\n",
      "Standard error of slope: 0.040756807918180794\n",
      "Standard error of y-intercept: 0.05056521775232908\n"
     ]
    }
   ],
   "source": [
    "#Repeat but with response factors instead of NO3- peak area\n",
    "x=cal_data['mM']\n",
    "y=cal_data['rf']\n",
    "slope, intercept, r_value, p_value, std_err = linregress(x,y)\n",
    "\n",
    "#Error of y-int\n",
    "y_pred=intercept+slope*x\n",
    "residuals=y-y_pred\n",
    "n=len(x)\n",
    "s_y=np.sqrt(np.sum(residuals**2)/(n-2))\n",
    "x_mean=np.mean(x)\n",
    "Sxx=np.sum((x-x_mean)**2)\n",
    "se_intercept=s_y*np.sqrt(1/n + x_mean**2/Sxx)\n",
    "\n",
    "print(f\"Slope: {slope}\")\n",
    "print(f\"Intercept: {intercept}\")\n",
    "print(f\"R^2: {r_value**2}\")\n",
    "print(f\"Standard error of slope: {std_err}\")\n",
    "print(f\"Standard error of y-intercept: {se_intercept}\")"
   ]
  },
  {
   "cell_type": "code",
   "execution_count": 11,
   "id": "e9909fee-88fe-4e4c-b98f-27c842510487",
   "metadata": {},
   "outputs": [],
   "source": [
    "#Using ISTD correction improved R^2 which is a good sign\n",
    "#R^2 of 0.9978 is acceptable, can continue"
   ]
  },
  {
   "cell_type": "code",
   "execution_count": 12,
   "id": "89f196a7-e4e8-468c-a46c-4248ba40aa51",
   "metadata": {},
   "outputs": [
    {
     "name": "stdout",
     "output_type": "stream",
     "text": [
      "LOD: 0.007844482501767336\n",
      "LOQ: 0.033642463558783225\n"
     ]
    }
   ],
   "source": [
    "#Now need to calculate LOD and LOQ\n",
    "#LOD = concentration of 3.3*stdev(low concentration standard measured many times)\n",
    "#LOQ = concenetration of 10*stdev(low concentration standard measured many times)\n",
    "lod = 3.3*lod_data['rf'].std()\n",
    "loq = 10*lod_data['rf'].std()\n",
    "\n",
    "lod_conc = (lod-intercept)/slope\n",
    "loq_conc = (loq-intercept)/slope\n",
    "\n",
    "print(f\"LOD: {lod_conc}\")\n",
    "print(f\"LOQ: {loq_conc}\")"
   ]
  },
  {
   "cell_type": "code",
   "execution_count": 13,
   "id": "1ec8bbb3-3014-45b9-8c2d-791344467a1f",
   "metadata": {},
   "outputs": [],
   "source": [
    "#Our lowest calibration point is below the LOQ, so have to start over without including that point\n",
    "mask = np.isclose(cal_data['mM'], 0.008, atol=1e-4)\n",
    "cal_data = cal_data.drop(cal_data[mask].index)"
   ]
  },
  {
   "cell_type": "code",
   "execution_count": 14,
   "id": "5a0894ff-baf9-46c2-8339-501e419b9c89",
   "metadata": {},
   "outputs": [
    {
     "data": {
      "text/html": [
       "<div>\n",
       "<style scoped>\n",
       "    .dataframe tbody tr th:only-of-type {\n",
       "        vertical-align: middle;\n",
       "    }\n",
       "\n",
       "    .dataframe tbody tr th {\n",
       "        vertical-align: top;\n",
       "    }\n",
       "\n",
       "    .dataframe thead th {\n",
       "        text-align: right;\n",
       "    }\n",
       "</style>\n",
       "<table border=\"1\" class=\"dataframe\">\n",
       "  <thead>\n",
       "    <tr style=\"text-align: right;\">\n",
       "      <th></th>\n",
       "      <th>concentration</th>\n",
       "      <th>istd_area</th>\n",
       "      <th>no3_area</th>\n",
       "      <th>mM</th>\n",
       "      <th>rf</th>\n",
       "    </tr>\n",
       "  </thead>\n",
       "  <tbody>\n",
       "    <tr>\n",
       "      <th>3</th>\n",
       "      <td>1.25</td>\n",
       "      <td>14.73</td>\n",
       "      <td>1.07</td>\n",
       "      <td>0.02016</td>\n",
       "      <td>0.072641</td>\n",
       "    </tr>\n",
       "    <tr>\n",
       "      <th>4</th>\n",
       "      <td>1.25</td>\n",
       "      <td>14.51</td>\n",
       "      <td>1.22</td>\n",
       "      <td>0.02016</td>\n",
       "      <td>0.084080</td>\n",
       "    </tr>\n",
       "    <tr>\n",
       "      <th>5</th>\n",
       "      <td>1.25</td>\n",
       "      <td>11.03</td>\n",
       "      <td>0.71</td>\n",
       "      <td>0.02016</td>\n",
       "      <td>0.064370</td>\n",
       "    </tr>\n",
       "    <tr>\n",
       "      <th>6</th>\n",
       "      <td>2.50</td>\n",
       "      <td>10.53</td>\n",
       "      <td>1.37</td>\n",
       "      <td>0.04032</td>\n",
       "      <td>0.130104</td>\n",
       "    </tr>\n",
       "    <tr>\n",
       "      <th>7</th>\n",
       "      <td>2.50</td>\n",
       "      <td>11.67</td>\n",
       "      <td>1.59</td>\n",
       "      <td>0.04032</td>\n",
       "      <td>0.136247</td>\n",
       "    </tr>\n",
       "  </tbody>\n",
       "</table>\n",
       "</div>"
      ],
      "text/plain": [
       "   concentration  istd_area  no3_area       mM        rf\n",
       "3           1.25      14.73      1.07  0.02016  0.072641\n",
       "4           1.25      14.51      1.22  0.02016  0.084080\n",
       "5           1.25      11.03      0.71  0.02016  0.064370\n",
       "6           2.50      10.53      1.37  0.04032  0.130104\n",
       "7           2.50      11.67      1.59  0.04032  0.136247"
      ]
     },
     "execution_count": 14,
     "metadata": {},
     "output_type": "execute_result"
    }
   ],
   "source": [
    "cal_data.head(5)"
   ]
  },
  {
   "cell_type": "code",
   "execution_count": 15,
   "id": "e8bda153-6f28-462a-b703-1d850c910b17",
   "metadata": {},
   "outputs": [
    {
     "name": "stdout",
     "output_type": "stream",
     "text": [
      "Slope: 4.349145705699257\n",
      "Intercept: 0.02485897917116242\n",
      "R^2: 0.9976757952879014\n",
      "Standard error of slope: 0.04475433290251585\n",
      "Standard error of y-intercept: 0.05889277914321376\n"
     ]
    }
   ],
   "source": [
    "#Do all over again with new datapoints \n",
    "x=cal_data['mM']\n",
    "y=cal_data['rf']\n",
    "slope, intercept, r_value, p_value, std_err = linregress(x,y)\n",
    "\n",
    "#Error of y-int\n",
    "y_pred=intercept+slope*x\n",
    "residuals=y-y_pred\n",
    "n=len(x)\n",
    "s_y=np.sqrt(np.sum(residuals**2)/(n-2))\n",
    "x_mean=np.mean(x)\n",
    "Sxx=np.sum((x-x_mean)**2)\n",
    "se_intercept=s_y*np.sqrt(1/n + x_mean**2/Sxx)\n",
    "\n",
    "print(f\"Slope: {slope}\")\n",
    "print(f\"Intercept: {intercept}\")\n",
    "print(f\"R^2: {r_value**2}\")\n",
    "print(f\"Standard error of slope: {std_err}\")\n",
    "print(f\"Standard error of y-intercept: {se_intercept}\")"
   ]
  },
  {
   "cell_type": "code",
   "execution_count": 16,
   "id": "d6cd3177-abab-4228-a3d3-25eb36872cac",
   "metadata": {},
   "outputs": [
    {
     "name": "stdout",
     "output_type": "stream",
     "text": [
      "LOD: 0.006995568204694729\n",
      "LOQ: 0.032803559279683925\n"
     ]
    }
   ],
   "source": [
    "#Now need to calculate LOD and LOQ\n",
    "#LOD = concentration of 3.3*stdev(low concentration standard measured many times)\n",
    "#LOQ = concenetration of 10*stdev(low concentration standard measured many times)\n",
    "lod = 3.3*lod_data['rf'].std()\n",
    "loq = 10*lod_data['rf'].std()\n",
    "\n",
    "lod_conc = (lod-intercept)/slope\n",
    "loq_conc = (loq-intercept)/slope\n",
    "\n",
    "print(f\"LOD: {lod_conc}\")\n",
    "print(f\"LOQ: {loq_conc}\")"
   ]
  },
  {
   "cell_type": "code",
   "execution_count": 17,
   "id": "4aed6445-1eab-4bfd-897f-a62e642bd45d",
   "metadata": {},
   "outputs": [],
   "source": [
    "#LOQ is now between our two lowest points on cal curve, which is acceptable"
   ]
  },
  {
   "cell_type": "markdown",
   "id": "4bb7340a-221b-4a7c-8642-87b901968dd4",
   "metadata": {},
   "source": [
    "## Evaluate cal curve\n",
    "- Check for heteroscedasticity to ensure an OLS model is a best fit as opposed to a WLS model\n",
    "- UV-vis data often has increasing variance with signal strength, so WLS sometimes is a better fit, but if our data are homoscedastic then we don't have to worry about it\n",
    "- Plots residuals to visually inspect and performs Levene test for heteroscedasticity"
   ]
  },
  {
   "cell_type": "code",
   "execution_count": 18,
   "id": "46483dd9-6260-45c0-bd71-af798973fb40",
   "metadata": {},
   "outputs": [
    {
     "data": {
      "image/png": "[encoded data removed]",
      "text/plain": [
       "<Figure size 640x480 with 1 Axes>"
      ]
     },
     "metadata": {},
     "output_type": "display_data"
    }
   ],
   "source": [
    "#Define our x and y variables\n",
    "x = sm.add_constant(cal_data['mM'])\n",
    "y = cal_data['rf']\n",
    "\n",
    "#Build Ordinary Least Squares models\n",
    "ols = sm.OLS(y,x).fit()\n",
    "\n",
    "#Plot residuals to look for heteroscedasticity\n",
    "plt.scatter(ols.fittedvalues,ols.resid)\n",
    "plt.axhline(0,color='k',lw=1)\n",
    "plt.xlabel(\"Fitted RF\")\n",
    "plt.ylabel(\"Residuals\")\n",
    "plt.title(\"Residuals vs Fitted\")\n",
    "plt.show()"
   ]
  },
  {
   "cell_type": "code",
   "execution_count": 19,
   "id": "18629389-79dc-41b4-b80b-75df146f1049",
   "metadata": {},
   "outputs": [
    {
     "name": "stdout",
     "output_type": "stream",
     "text": [
      "Levene p-value: 0.1937\n"
     ]
    }
   ],
   "source": [
    "#Appears fairly homoscedastic\n",
    "#Let's do a Levene test to be sure\n",
    "groups=[g['rf'].values for _, g in cal_data.groupby('mM')]\n",
    "stat, p = levene(*groups, center='median')\n",
    "print(f\"Levene p-value: {p:.4f}\")"
   ]
  },
  {
   "cell_type": "code",
   "execution_count": 20,
   "id": "975953f0-beb2-4644-9791-a425d8938e38",
   "metadata": {},
   "outputs": [],
   "source": [
    "#Looks like our values are homoscedastic, no need to worry about a weighted least squares model"
   ]
  },
  {
   "cell_type": "markdown",
   "id": "466652ad-c1b1-4be5-9648-75f06b695ea7",
   "metadata": {},
   "source": [
    "## Plot cal curve\n",
    "- Plots cal curve with 95% prediction interval so we can see visually where our accuracy lies"
   ]
  },
  {
   "cell_type": "code",
   "execution_count": 21,
   "id": "14905c7a-6ff7-489d-8c94-f167d7a5c2a7",
   "metadata": {},
   "outputs": [
    {
     "data": {
      "image/png": "[encoded data removed]",
      "text/plain": [
       "<Figure size 800x500 with 1 Axes>"
      ]
     },
     "metadata": {},
     "output_type": "display_data"
    }
   ],
   "source": [
    "#Define our curve again just in case\n",
    "x = cal_data['mM']\n",
    "y = cal_data['rf']\n",
    "slope, intercept, r, p, stderr = linregress(x,y)\n",
    "\n",
    "#Find standard error of intercept again\n",
    "n = len(x)\n",
    "x_mean = np.mean(x)\n",
    "Sxx = np.sum((x - x_mean)**2)\n",
    "y_pred = intercept + slope * x\n",
    "s_yx = np.sqrt(np.sum((y - y_pred)**2) / (n - 2))\n",
    "stderr_intercept = s_yx * np.sqrt(1/n + x_mean**2 / Sxx)\n",
    "\n",
    "#Summarize triplicates for error bars\n",
    "lvl=cal_data.groupby('mM')['rf'].agg(mean=\"mean\",sd=\"std\",n='count').reset_index()\n",
    "\n",
    "#Calculate confidence band for mean prediction\n",
    "x=x.to_numpy() #Makes sure it's an array and not still a dataframe\n",
    "y=y.to_numpy()\n",
    "\n",
    "n=len(x)\n",
    "x_mean=np.mean(x)\n",
    "Sxx=np.sum((x-x_mean)**2)\n",
    "y_pred=intercept+slope*x\n",
    "\n",
    "#Stdev of residuals\n",
    "s_yx=np.sqrt(np.sum((y-y_pred)**2)/(n-2))\n",
    "xg=np.linspace(x.min(),x.max(),300)\n",
    "y_fit=intercept+slope*xg\n",
    "\n",
    "#95% confidence interval for mean fit\n",
    "alpha=0.05\n",
    "t_val=t.ppf(1-alpha/2, n-2)\n",
    "se_fit=s_yx*np.sqrt(1/n + (xg-x_mean)**2/Sxx)\n",
    "ci_upper=y_fit+t_val*se_fit\n",
    "ci_lower=y_fit-t_val*se_fit\n",
    "\n",
    "#95% prediction band\n",
    "se_pred=s_yx*np.sqrt(1 + (1/n) + ((xg-x_mean)**2)/Sxx)\n",
    "pi_upper=y_fit+t_val*se_pred\n",
    "pi_lower=y_fit-t_val*se_pred\n",
    "\n",
    "#Plot\n",
    "plt.figure(figsize=(8,5))\n",
    "plt.scatter(x,y,alpha=0.5,s=10,label='Replicates')\n",
    "plt.errorbar(lvl['mM'],lvl['mean'],yerr=lvl['sd'],fmt='o',capsize=3,markersize=2,label='Mean±SD')\n",
    "plt.plot(xg,y_fit,'r-',lw=1,label=\"Fit\")\n",
    "plt.fill_between(xg,ci_lower,ci_upper,color='r',alpha=0.2,label='95% CI (mean fit)')\n",
    "plt.plot(xg,pi_upper,'r--',label='95% Prediction Band')\n",
    "plt.plot(xg,pi_lower,'r--')\n",
    "plt.xlabel(\"Concentration (mM)\")\n",
    "plt.ylabel(\"Response Factor\")\n",
    "plt.title(\"Calibration Curve, Concentration vs RF\")\n",
    "plt.text(0.35,0.25,f\"Slope={slope:.6g}±{stderr:.3g}, \" f\"Intercept={intercept:.6g}±{stderr_intercept:.3g},\" f\"R²={r**2:.5f}\",transform=plt.gca().transAxes,ha='left',va='top',fontsize=9,bbox=dict(facecolor='white',alpha=0.6,edgecolor='none'))\n",
    "plt.legend()\n",
    "plt.tight_layout()\n",
    "plt.show()"
   ]
  },
  {
   "cell_type": "code",
   "execution_count": 22,
   "id": "176a8f7a-e983-446b-a54b-b5067f2fef5b",
   "metadata": {},
   "outputs": [],
   "source": [
    "#Let's pickle this curve so we can use it in later notebooks for calculations\n",
    "cal_curve={'slope':slope,'intercept':intercept,'stderr_slope':stderr,'stderr_intercept':stderr_intercept,'r2':r**2,'s_yx':s_yx,'x_mean':x_mean,'Sxx':Sxx,'n':n}\n",
    "\n",
    "#Save to a pickle format so it can be opened anywhere and used as needed\n",
    "with open('calibration_curve.pkl','wb')as f:\n",
    "    pickle.dump(cal_curve,f)"
   ]
  },
  {
   "cell_type": "markdown",
   "id": "243c8883-0af1-4866-be1b-b9ad5a00ebfc",
   "metadata": {},
   "source": [
    "## Percent recovery of low and mid LFB\n",
    "- Find percent recovery and SE of low and mid LFBs to validate curve"
   ]
  },
  {
   "cell_type": "code",
   "execution_count": 23,
   "id": "a03f8379-b7f8-4768-abfc-a54167ae94bf",
   "metadata": {},
   "outputs": [
    {
     "data": {
      "text/html": [
       "<div>\n",
       "<style scoped>\n",
       "    .dataframe tbody tr th:only-of-type {\n",
       "        vertical-align: middle;\n",
       "    }\n",
       "\n",
       "    .dataframe tbody tr th {\n",
       "        vertical-align: top;\n",
       "    }\n",
       "\n",
       "    .dataframe thead th {\n",
       "        text-align: right;\n",
       "    }\n",
       "</style>\n",
       "<table border=\"1\" class=\"dataframe\">\n",
       "  <thead>\n",
       "    <tr style=\"text-align: right;\">\n",
       "      <th></th>\n",
       "      <th>concentration</th>\n",
       "      <th>istd_area</th>\n",
       "      <th>no3_area</th>\n",
       "      <th>mM</th>\n",
       "      <th>rf</th>\n",
       "    </tr>\n",
       "  </thead>\n",
       "  <tbody>\n",
       "    <tr>\n",
       "      <th>0</th>\n",
       "      <td>80</td>\n",
       "      <td>11.31</td>\n",
       "      <td>69.58</td>\n",
       "      <td>1.290239</td>\n",
       "      <td>6.152078</td>\n",
       "    </tr>\n",
       "    <tr>\n",
       "      <th>1</th>\n",
       "      <td>80</td>\n",
       "      <td>10.81</td>\n",
       "      <td>66.89</td>\n",
       "      <td>1.290239</td>\n",
       "      <td>6.187789</td>\n",
       "    </tr>\n",
       "    <tr>\n",
       "      <th>2</th>\n",
       "      <td>80</td>\n",
       "      <td>10.18</td>\n",
       "      <td>68.96</td>\n",
       "      <td>1.290239</td>\n",
       "      <td>6.774067</td>\n",
       "    </tr>\n",
       "    <tr>\n",
       "      <th>3</th>\n",
       "      <td>7</td>\n",
       "      <td>12.71</td>\n",
       "      <td>7.64</td>\n",
       "      <td>0.112896</td>\n",
       "      <td>0.601101</td>\n",
       "    </tr>\n",
       "    <tr>\n",
       "      <th>4</th>\n",
       "      <td>7</td>\n",
       "      <td>11.43</td>\n",
       "      <td>6.32</td>\n",
       "      <td>0.112896</td>\n",
       "      <td>0.552931</td>\n",
       "    </tr>\n",
       "  </tbody>\n",
       "</table>\n",
       "</div>"
      ],
      "text/plain": [
       "   concentration  istd_area  no3_area        mM        rf\n",
       "0             80      11.31     69.58  1.290239  6.152078\n",
       "1             80      10.81     66.89  1.290239  6.187789\n",
       "2             80      10.18     68.96  1.290239  6.774067\n",
       "3              7      12.71      7.64  0.112896  0.601101\n",
       "4              7      11.43      6.32  0.112896  0.552931"
      ]
     },
     "execution_count": 23,
     "metadata": {},
     "output_type": "execute_result"
    }
   ],
   "source": [
    "lfb_data.head(5)"
   ]
  },
  {
   "cell_type": "code",
   "execution_count": 24,
   "id": "84521355-a016-4035-aac6-27db01c5a108",
   "metadata": {},
   "outputs": [],
   "source": [
    "#Re-open the curve to use to analyze our LFBs\n",
    "with open('calibration_curve.pkl','rb') as f:\n",
    "    cal_curve=pickle.load(f)"
   ]
  },
  {
   "cell_type": "code",
   "execution_count": 25,
   "id": "cc7b9959-c2da-4cf2-9c55-4885b6dc159f",
   "metadata": {},
   "outputs": [],
   "source": [
    "def uncertainty(df, cal, sample_col='sample_id',rf_col='rf'):\n",
    "    \"\"\"\n",
    "    Uses the uncertainty in a calibration curve measurement found in Harris'\n",
    "    Quantitative Chemical Analysis Eighth Edition (Equation 4-27)\n",
    "    \n",
    "    Takes as input our calibration curve (saved as a pickle) and a dataframe\n",
    "    with multiplicate (e.g. triplicate) measurements to give a single\n",
    "    mean value and its uncertainty\n",
    "\n",
    "    Assumes dataframe already has a calculated response factor column,\n",
    "    could probably be generalized to do this as well but seems unnecessary\n",
    "    \"\"\"\n",
    "    m=cal['slope']\n",
    "    a=cal['intercept']\n",
    "    s_y=cal['s_yx']\n",
    "    x_bar=cal['x_mean']\n",
    "    Sxx=cal['Sxx']\n",
    "    n_cal=cal['n']\n",
    "    y_bar=a+m*x_bar\n",
    "    t_val=t.ppf(0.975,n_cal-2) #Two-sided 95% confidence interval\n",
    "\n",
    "    results=[]\n",
    "    for sid, grp in df.groupby(sample_col):\n",
    "        y_u=grp[rf_col].to_numpy()\n",
    "        k=len(y_u)\n",
    "        y_u_bar=np.mean(y_u)\n",
    "        x_hat=(y_u_bar-a)/m\n",
    "        s_x=(s_y/m)*np.sqrt((1/k)+(1/n_cal)+((y_u_bar-y_bar)**2)/(m**2*Sxx)) #Equation 4-27\n",
    "        ci_lo=x_hat-t_val*s_x\n",
    "        ci_hi=x_hat+t_val*s_x\n",
    "        results.append({\n",
    "            \"sample\":sid,\n",
    "            \"n_rep\":k,\n",
    "            \"rf_mean\":y_u_bar,\n",
    "            \"conc_mean\":x_hat,\n",
    "            \"s_x\":s_x,\n",
    "            \"CI_low\":ci_lo,\n",
    "            \"CI_high\":ci_hi\n",
    "        })\n",
    "    return pd.DataFrame(results)"
   ]
  },
  {
   "cell_type": "code",
   "execution_count": 26,
   "id": "e3fb1771-14c9-4a03-aaa3-44fbe9c19858",
   "metadata": {},
   "outputs": [
    {
     "name": "stdout",
     "output_type": "stream",
     "text": [
      "   sample  n_rep   rf_mean  conc_mean       s_x    CI_low   CI_high\n",
      "0       7      3  0.564634   0.124111  0.033125  0.055414  0.192807\n",
      "1      80      3  6.371311   1.459241  0.033116  1.390563  1.527919\n"
     ]
    }
   ],
   "source": [
    "summary=uncertainty(lfb_data,cal_curve,sample_col=\"concentration\",rf_col=\"rf\")\n",
    "print(summary)"
   ]
  },
  {
   "cell_type": "code",
   "execution_count": 27,
   "id": "9fd2272a-b019-4632-b3aa-e17f5b11687c",
   "metadata": {},
   "outputs": [
    {
     "name": "stdout",
     "output_type": "stream",
     "text": [
      "Percent recovery of Low LFB (0.113mM): 109.93%\n",
      "Percent recovery of Mid LFB (1.290mM): 113.1%\n"
     ]
    }
   ],
   "source": [
    "#Calculate our percent recoveries\n",
    "perc_rec_low=(summary.loc[summary['sample']==7,'conc_mean'].iloc[0]/0.112896)*100\n",
    "perc_rec_mid=(summary.loc[summary['sample']==80,'conc_mean'].iloc[0]/1.290239)*100\n",
    "print(f\"Percent recovery of Low LFB (0.113mM): {perc_rec_low:.5g}%\")\n",
    "print(f\"Percent recovery of Mid LFB (1.290mM): {perc_rec_mid:.5g}%\")"
   ]
  },
  {
   "cell_type": "code",
   "execution_count": null,
   "id": "e68e83f9-52e8-4788-8883-467457dfd6c0",
   "metadata": {},
   "outputs": [],
   "source": []
  }
 ],
 "metadata": {
  "kernelspec": {
   "display_name": "Python 3 (ipykernel)",
   "language": "python",
   "name": "python3"
  },
  "language_info": {
   "codemirror_mode": {
    "name": "ipython",
    "version": 3
   },
   "file_extension": ".py",
   "mimetype": "text/x-python",
   "name": "python",
   "nbconvert_exporter": "python",
   "pygments_lexer": "ipython3",
   "version": "3.12.3"
  }
 },
 "nbformat": 4,
 "nbformat_minor": 5
}
